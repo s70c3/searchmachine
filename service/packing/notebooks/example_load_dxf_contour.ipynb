{
 "cells": [
  {
   "cell_type": "code",
   "execution_count": 20,
   "metadata": {},
   "outputs": [],
   "source": [
    "import ezdxf\n",
    "import cv2\n",
    "import numpy as np\n",
    "\n",
    "def preprocess_dxf_file(dxf_name):\n",
    "    dxf = ezdxf.readfile(dxf_name)\n",
    "    msp = dxf.modelspace()\n",
    "    mask = np.zeros((10000, 10000), dtype=\"uint8\")\n",
    "    # shift for centering\n",
    "    c = 5000\n",
    "    for l in msp:\n",
    "        if l.dxftype() == \"LINE\":\n",
    "            x1, y1 = list(map(round, l.dxf.start[0:2]))\n",
    "            x2, y2 = list(map(round, l.dxf.end[0:2]))\n",
    "            cv2.line(mask, (x1 + c, y1 + c), (x2 + c, y2 + c), 255, 1)\n",
    "        if l.dxftype() == \"CIRCLE\":\n",
    "            x1, y1 = list(map(round, l.dxf.center[0:2]))\n",
    "            cv2.circle(mask, (x1 + c, y1 + c), round(l.dxf.radius), 255, thickness=1, lineType=8, shift=0)\n",
    "        if l.dxftype() == \"LWPOLYLINE\":\n",
    "            points = l.get_points(\"xyb\")\n",
    "            prev_point = points[0]\n",
    "            for i in range(1, len(points)):\n",
    "                point = points[i]\n",
    "                if abs(prev_point[2]) == 1:\n",
    "                    center_x = (round(prev_point[0]) + round(point[0])) // 2\n",
    "                    center_y = (round(prev_point[1]) + round(point[1])) // 2\n",
    "                    major_axe = abs(round(point[0]) - round(prev_point[0])) // 2\n",
    "                    minor_axe = abs(round((round(point[0]) - round(prev_point[0]))) // 2)\n",
    "                    cv2.ellipse(mask, (center_x + c, center_y + c), (major_axe, minor_axe), 0.0, 0.0, 360,\n",
    "                                (255, 255, 255), 1)\n",
    "                else:\n",
    "                    x1, y1 = list(map(round, prev_point[0:2]))\n",
    "                    x2, y2 = list(map(round, point[0:2]))\n",
    "                    cv2.line(mask, (x1 + c, y1 + c), (x2 + c, y2 + c), 255, 1)\n",
    "                prev_point = point\n",
    "            if l.closed:\n",
    "                x1, y1 = list(map(round, points[len(points) - 1][0:2]))\n",
    "                x2, y2 = list(map(round, points[0][0:2]))\n",
    "                cv2.line(mask, (x1 + c, y1 + c), (x2 + c, y2 + c), 255, 1)\n",
    "        if l.dxftype() == \"ARC\":\n",
    "            x1, y1 = list(map(round, l.dxf.center[0:2]))\n",
    "            cv2.ellipse(mask, (x1 + c, y1 + c), (round(l.dxf.radius), round(l.dxf.radius)), 0, round(l.dxf.start_angle),\n",
    "                        round(l.dxf.end_angle), 255, thickness=1, lineType=8, shift=0)\n",
    "    # returning an image\n",
    "    return mask\n",
    "\n",
    "\n",
    "def get_min(cont):\n",
    "    minX = np.min(cont[:, 0, 0])\n",
    "    minY = np.min(cont[:, 0, 1])\n",
    "    return minX, minY\n",
    "\n",
    "\n",
    "def get_outer_rect(image):\n",
    "    return get_outer_contour_with_info(image)[1]\n",
    "\n",
    "\n",
    "def get_outer_contour(image):\n",
    "    return get_outer_contour_with_info(image)[2]\n",
    "\n",
    "\n",
    "def get_outer_contour_with_info(thresh_img):\n",
    "    contours, _ = cv2.findContours(thresh_img, cv2.RETR_LIST, cv2.CHAIN_APPROX_NONE)\n",
    "    # find the outer contour\n",
    "    get_area = lambda c: -c[2] * c[3]\n",
    "    contour_sizes = [(get_area(cv2.boundingRect(contour)), cv2.boundingRect(contour), contour) for contour in contours]\n",
    "    biggest_contour = sorted(contour_sizes, key=lambda x: x[0])[0]\n",
    "    return biggest_contour\n",
    "\n",
    "\n",
    "def extract_info(dxf_name):\n",
    "    thresh_img = preprocess_dxf_file(dxf_name)\n",
    "    x1, y1, w, h = get_outer_rect(thresh_img)\n",
    "    # normalize coordinates\n",
    "    contour = get_outer_contour(thresh_img)\n",
    "    minX, minY = get_min(contour)\n",
    "    cnt_norm = contour - [minX, minY]\n",
    "    return cnt_norm, (w, h)\n",
    "\n",
    "\n",
    "def get_contour_from_dxf(dxf_name):\n",
    "    \"\"\"\n",
    "    Main method that extracts contour from dxf as a np.ndarray\n",
    "    @param dxf_name: path to dxf file\n",
    "    @return: contour np.ndarray\n",
    "    \"\"\"\n",
    "    contour = extract_info(dxf_name)[0]\n",
    "    contour = contour.squeeze()\n",
    "    return contour\n",
    "\n",
    "\n",
    "def get_size_from_dxf(dxf_name):\n",
    "    return extract_info(dxf_name)[1]\n"
   ]
  },
  {
   "cell_type": "code",
   "execution_count": 26,
   "metadata": {},
   "outputs": [],
   "source": [
    "import numpy as np\n",
    "\n",
    "def points_sequence_to_lines(contour):\n",
    "    \"\"\"\n",
    "    Reduces chains of 3+ sequential points with diff only in one\n",
    "    coordinate down to 2 points\n",
    "    @param contour: dxf contour\n",
    "    @return: contour: compressed dxf contour\n",
    "    \"\"\"\n",
    "    assert isinstance(contour, np.ndarray)\n",
    "    assert len(contour.shape) == 2\n",
    "    assert contour.shape[1] == 2\n",
    "\n",
    "    def is_line(c1, c2):\n",
    "        if abs(c1[0] - c2[0]) >= 1 and abs(c1[1] - c2[1]) == 0:\n",
    "            return True\n",
    "        if abs(c1[1] - c2[1]) >= 1 and abs(c1[0] - c2[0]) == 0:\n",
    "            return True\n",
    "        return False\n",
    "\n",
    "    contour = contour.squeeze().tolist()\n",
    "    new_contour = []\n",
    "    prev_coord = contour[0]\n",
    "    for i, coord in enumerate(contour[1:], start=1):\n",
    "        # if current point breaks straight line, call it a node\n",
    "        # and append to polyline contour. Try to examine next line\n",
    "        # from this breakpoint\n",
    "        if not is_line(prev_coord, contour[i]):\n",
    "            new_contour.append(contour[i])\n",
    "            prev_coord = contour[i]\n",
    "\n",
    "    new_contour = np.array(new_contour)\n",
    "    return new_contour\n",
    "\n",
    "\n",
    "def filter_points_duplicates(contour):\n",
    "    \"\"\"\n",
    "    Deletes sequential duplicating points from contour\n",
    "    @param contour: dxf contour\n",
    "    @return: contour: compressed dxf contour\n",
    "    \"\"\"\n",
    "    assert isinstance(contour, np.ndarray)\n",
    "    assert len(contour.shape) == 2\n",
    "    assert contour.shape[1] == 2\n",
    "\n",
    "    def is_duplicate(c1, c2):\n",
    "        return c1 == c2\n",
    "\n",
    "    contour = contour.squeeze().tolist()\n",
    "    new_contour = []\n",
    "    prev_coord = contour[0]\n",
    "    for i, coord in enumerate(contour[1:], start=1):\n",
    "\n",
    "        if not is_duplicate(prev_coord, contour[i]):\n",
    "            new_contour.append(contour[i])\n",
    "            prev_coord = contour[i]\n",
    "\n",
    "    new_contour = np.array(new_contour)\n",
    "    return new_contour"
   ]
  },
  {
   "cell_type": "code",
   "execution_count": 48,
   "metadata": {},
   "outputs": [],
   "source": [
    "def move_to_00(contour):\n",
    "    \"\"\"\n",
    "    Translates upper-left contour point (and all its point)\n",
    "    to the origin of coordinate plane\n",
    "    @param contour: dxf contour\n",
    "    @return: contour: translated dxf contour\n",
    "    \"\"\"\n",
    "    assert isinstance(contour, np.ndarray)\n",
    "    assert len(contour.shape) == 2\n",
    "    assert contour.shape[1] == 2\n",
    "\n",
    "    minx, miny = min(contour[:, 0]), min(contour[:, 1])\n",
    "    contour -= np.array([minx, miny])\n",
    "    return contour\n",
    "\n",
    "def get_contour_size(contour):\n",
    "    maxx, maxy = max(contour[:, 0]), max(contour[:, 1])\n",
    "    return maxx, maxy"
   ]
  },
  {
   "cell_type": "code",
   "execution_count": 161,
   "metadata": {},
   "outputs": [],
   "source": [
    "path = '/data/detail_price/dxf_хпц/dxf_ХПЦ_ТВЗ/'\n",
    "name = '4498.25.15.312.dxf'"
   ]
  },
  {
   "cell_type": "code",
   "execution_count": 162,
   "metadata": {},
   "outputs": [
    {
     "data": {
      "text/plain": [
       "(414, 2)"
      ]
     },
     "execution_count": 162,
     "metadata": {},
     "output_type": "execute_result"
    }
   ],
   "source": [
    "contour = get_contour_from_dxf(path + name)\n",
    "contour.shape"
   ]
  },
  {
   "cell_type": "code",
   "execution_count": 163,
   "metadata": {},
   "outputs": [
    {
     "data": {
      "text/plain": [
       "(22, 2)"
      ]
     },
     "execution_count": 163,
     "metadata": {},
     "output_type": "execute_result"
    }
   ],
   "source": [
    "contour = points_sequence_to_lines(contour)\n",
    "contour.shape"
   ]
  },
  {
   "cell_type": "code",
   "execution_count": 164,
   "metadata": {},
   "outputs": [
    {
     "data": {
      "text/plain": [
       "(21, 2)"
      ]
     },
     "execution_count": 164,
     "metadata": {},
     "output_type": "execute_result"
    }
   ],
   "source": [
    "contour = filter_points_duplicates(contour)\n",
    "contour.shape"
   ]
  },
  {
   "cell_type": "code",
   "execution_count": 165,
   "metadata": {},
   "outputs": [
    {
     "data": {
      "text/plain": [
       "(185, 23)"
      ]
     },
     "execution_count": 165,
     "metadata": {},
     "output_type": "execute_result"
    }
   ],
   "source": [
    "contour = move_to_00(contour)\n",
    "get_contour_size(contour)"
   ]
  },
  {
   "cell_type": "code",
   "execution_count": null,
   "metadata": {},
   "outputs": [],
   "source": [
    "[(1.0, 0.0), \n",
    " (185.0, 1.0), \n",
    " (184.0, 24.0), \n",
    " (180.0, 23.0), \n",
    " (170.0, 22.0), \n",
    " (160.0, 21.0), \n",
    " (151.0, 20.0), \n",
    " (141.0, 19.0), \n",
    " (131.0, 18.0), \n",
    " (122.0, 17.0), \n",
    " (112.0, 16.0), \n",
    " (102.0, 15.0), \n",
    " (82.0, 16.0), \n",
    " (72.0, 17.0), \n",
    " (62.0, 18.0), \n",
    " (53.0, 19.0), \n",
    " (43.0, 20.0), \n",
    " (33.0, 21.0), \n",
    " (24.0, 22.0), \n",
    " (14.0, 23.0), \n",
    " (4.0, 24.0), \n",
    " (0.0, 23.0)]\n"
   ]
  },
  {
   "cell_type": "code",
   "execution_count": 166,
   "metadata": {},
   "outputs": [
    {
     "data": {
      "text/plain": [
       "array([[185,   0],\n",
       "       [184,  23],\n",
       "       [180,  22],\n",
       "       [170,  21],\n",
       "       [160,  20],\n",
       "       [151,  19],\n",
       "       [141,  18],\n",
       "       [131,  17],\n",
       "       [122,  16],\n",
       "       [112,  15],\n",
       "       [102,  14],\n",
       "       [ 82,  15],\n",
       "       [ 72,  16],\n",
       "       [ 62,  17],\n",
       "       [ 53,  18],\n",
       "       [ 43,  19],\n",
       "       [ 33,  20],\n",
       "       [ 24,  21],\n",
       "       [ 14,  22],\n",
       "       [  4,  23],\n",
       "       [  0,  22]])"
      ]
     },
     "execution_count": 166,
     "metadata": {},
     "output_type": "execute_result"
    }
   ],
   "source": [
    "contour"
   ]
  },
  {
   "cell_type": "code",
   "execution_count": 167,
   "metadata": {},
   "outputs": [],
   "source": [
    "from PIL import Image, ImageDraw\n",
    "from shapely import geometry, affinity"
   ]
  },
  {
   "cell_type": "code",
   "execution_count": 168,
   "metadata": {},
   "outputs": [
    {
     "data": {
      "image/svg+xml": [
       "<svg xmlns=\"http://www.w3.org/2000/svg\" xmlns:xlink=\"http://www.w3.org/1999/xlink\" width=\"300\" height=\"113.4\" viewBox=\"-207.2 -45.2 599.4 113.4\" preserveAspectRatio=\"xMinYMin meet\"><g transform=\"matrix(1,0,0,-1,0,23.0)\"><path fill-rule=\"evenodd\" fill=\"#66cc99\" stroke=\"#555555\" stroke-width=\"3.996\" opacity=\"0.6\" d=\"M 370.0,-23.0 L 367.0,46.0 L 355.0,43.0 L 325.0,40.0 L 295.0,37.0 L 268.0,34.0 L 238.0,31.0 L 208.0,28.0 L 181.0,25.0 L 151.0,22.0 L 121.0,19.0 L 61.0,22.0 L 31.0,25.0 L 1.0,28.0 L -26.0,31.0 L -56.0,34.0 L -86.0,37.0 L -113.0,40.0 L -143.0,43.0 L -173.0,46.0 L -185.0,43.0 L 370.0,-23.0 z\" /></g></svg>"
      ],
      "text/plain": [
       "<shapely.geometry.polygon.Polygon at 0x7fcf824da278>"
      ]
     },
     "execution_count": 168,
     "metadata": {},
     "output_type": "execute_result"
    }
   ],
   "source": [
    "k = 3\n",
    "poly = geometry.Polygon(contour)\n",
    "affinity.scale(poly, k, k)"
   ]
  },
  {
   "cell_type": "code",
   "execution_count": 169,
   "metadata": {},
   "outputs": [
    {
     "data": {
      "image/png": "[encoded data removed]",
      "text/plain": [
       "<PIL.Image.Image image mode=L size=370x46 at 0x7FCF82518F98>"
      ]
     },
     "execution_count": 169,
     "metadata": {},
     "output_type": "execute_result"
    }
   ],
   "source": [
    "size = get_contour_size(contour)\n",
    "k = 2\n",
    "\n",
    "img = Image.new('L', size)\n",
    "im = ImageDraw.Draw(img)\n",
    "im.polygon(list(map(lambda p: (int(p[0]), int(p[1])), contour)), \n",
    "                        fill=128, outline=255)\n",
    "img.resize((size[0]*k, size[1]*k))"
   ]
  },
  {
   "cell_type": "code",
   "execution_count": 86,
   "metadata": {},
   "outputs": [
    {
     "data": {
      "text/plain": [
       "(115, 74)"
      ]
     },
     "execution_count": 86,
     "metadata": {},
     "output_type": "execute_result"
    }
   ],
   "source": [
    "size"
   ]
  },
  {
   "cell_type": "code",
   "execution_count": null,
   "metadata": {},
   "outputs": [],
   "source": []
  }
 ],
 "metadata": {
  "kernelspec": {
   "display_name": "Python 3",
   "language": "python",
   "name": "python3"
  },
  "language_info": {
   "codemirror_mode": {
    "name": "ipython",
    "version": 3
   },
   "file_extension": ".py",
   "mimetype": "text/x-python",
   "name": "python",
   "nbconvert_exporter": "python",
   "pygments_lexer": "ipython3",
   "version": "3.6.9"
  }
 },
 "nbformat": 4,
 "nbformat_minor": 4
}
