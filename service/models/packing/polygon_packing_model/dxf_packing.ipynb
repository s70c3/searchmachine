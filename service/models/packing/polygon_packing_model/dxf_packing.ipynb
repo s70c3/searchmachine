{
 "cells": [
  {
   "cell_type": "code",
   "execution_count": 1,
   "metadata": {},
   "outputs": [],
   "source": [
    "import os\n",
    "import random\n",
    "import json\n",
    "import matplotlib.pyplot as plt\n",
    "from tqdm import tqdm_notebook as tqdm"
   ]
  },
  {
   "cell_type": "code",
   "execution_count": 2,
   "metadata": {},
   "outputs": [],
   "source": [
    "import numpy as np\n",
    "from PIL import Image, ImageDraw\n",
    "from tqdm import tqdm_notebook as tqdm\n"
   ]
  },
  {
   "cell_type": "markdown",
   "metadata": {},
   "source": [
    "# Load data"
   ]
  },
  {
   "cell_type": "code",
   "execution_count": 3,
   "metadata": {},
   "outputs": [
    {
     "data": {
      "text/plain": [
       "74548"
      ]
     },
     "execution_count": 3,
     "metadata": {},
     "output_type": "execute_result"
    }
   ],
   "source": [
    "path = '/data/detail_price/dxf_хпц/jsoned/'\n",
    "files = os.listdir(path)\n",
    "len(files)"
   ]
  },
  {
   "cell_type": "code",
   "execution_count": 4,
   "metadata": {},
   "outputs": [
    {
     "name": "stderr",
     "output_type": "stream",
     "text": [
      "/usr/local/lib/python3.6/dist-packages/ipykernel_launcher.py:4: TqdmDeprecationWarning: This function will be removed in tqdm==5.0.0\n",
      "Please use `tqdm.notebook.tqdm` instead of `tqdm.tqdm_notebook`\n",
      "  after removing the cwd from sys.path.\n"
     ]
    },
    {
     "data": {
      "application/vnd.jupyter.widget-view+json": {
       "model_id": "1d56d7f93e3a4323bd8be29f92cd5ca6",
       "version_major": 2,
       "version_minor": 0
      },
      "text/plain": [
       "HBox(children=(HTML(value=''), FloatProgress(value=0.0, max=2000.0), HTML(value='')))"
      ]
     },
     "metadata": {},
     "output_type": "display_data"
    },
    {
     "name": "stdout",
     "output_type": "stream",
     "text": [
      "\n"
     ]
    }
   ],
   "source": [
    "lens = []\n",
    "polygons = []\n",
    "\n",
    "for file in tqdm(files[:2000]):\n",
    "    p = path + file\n",
    "    arr = json.load(open(p))\n",
    "    lens.append(len(arr))\n",
    "    polygons.append(arr)"
   ]
  },
  {
   "cell_type": "markdown",
   "metadata": {},
   "source": [
    "# Pack"
   ]
  },
  {
   "cell_type": "code",
   "execution_count": 5,
   "metadata": {},
   "outputs": [],
   "source": [
    "random.seed(2020)"
   ]
  },
  {
   "cell_type": "code",
   "execution_count": 6,
   "metadata": {},
   "outputs": [
    {
     "name": "stdout",
     "output_type": "stream",
     "text": [
      "lenghts: [8, 7, 7, 11]\n",
      "sizes: [(80.0, 74.0), (60.0, 52.0), (47.0, 55.0), (16.0, 66.0)]\n"
     ]
    }
   ],
   "source": [
    "K1 = 12\n",
    "K2 = 5\n",
    "N = 4\n",
    "MAX_SQUARE = 10000\n",
    "MIN_SQUARE = 300\n",
    "\n",
    "is_short = lambda poly: len(poly) < K1 and len(poly) > K2\n",
    "size = lambda poly: (max(np.array(poly)[:, 0]), max(np.array(poly)[:, 1]))\n",
    "def is_low_square(poly):\n",
    "    s = size(poly)\n",
    "    sq = s[0] * s[1]\n",
    "    return sq < MAX_SQUARE and sq > MIN_SQUARE\n",
    "is_not_degenerate = lambda poly: len(poly) == len(set(poly))\n",
    "is_selfoverlap = lambda poly: geom.segments_cross_or_overlap(geom.segments_from_points(poly))\n",
    "\n",
    "is_good_fig = lambda poly: is_short(poly) and \\\n",
    "                           is_low_square(poly) and \\\n",
    "                           is_not_degenerate(list(map(tuple, poly))) #and \\\n",
    "#                            not is_selfoverlap(poly)\n",
    "to_fig = lambda fig: list(map(lambda p: tuple([float(p[0]), float(p[1])]) , fig))\n",
    "\n",
    "good_figs = list(filter(is_good_fig, polygons))\n",
    "figures = [good_figs[random.randint(0, len(good_figs)-1)] for _ in range(N)]\n",
    "figures = sorted(list(map(to_fig, figures)), key=lambda p: -size(p)[0] * size(p)[1])\n",
    "\n",
    "print('lenghts:', list(map(len, figures)))\n",
    "print('sizes:', list(map(size, figures)))"
   ]
  },
  {
   "cell_type": "code",
   "execution_count": 7,
   "metadata": {},
   "outputs": [
    {
     "data": {
      "text/plain": [
       "4"
      ]
     },
     "execution_count": 7,
     "metadata": {},
     "output_type": "execute_result"
    }
   ],
   "source": [
    "len(figures)"
   ]
  },
  {
   "cell_type": "code",
   "execution_count": 3,
   "metadata": {},
   "outputs": [
    {
     "ename": "ImportError",
     "evalue": "attempted relative import with no known parent package",
     "output_type": "error",
     "traceback": [
      "\u001b[0;31m---------------------------------------------------------------------------\u001b[0m",
      "\u001b[0;31mImportError\u001b[0m                               Traceback (most recent call last)",
      "\u001b[0;32m<ipython-input-3-37af6b490f10>\u001b[0m in \u001b[0;36m<module>\u001b[0;34m\u001b[0m\n\u001b[1;32m      1\u001b[0m \u001b[0;32mfrom\u001b[0m \u001b[0mfigure\u001b[0m \u001b[0;32mimport\u001b[0m \u001b[0mFigure\u001b[0m\u001b[0;34m\u001b[0m\u001b[0;34m\u001b[0m\u001b[0m\n\u001b[0;32m----> 2\u001b[0;31m \u001b[0;32mfrom\u001b[0m \u001b[0mpackmap\u001b[0m \u001b[0;32mimport\u001b[0m \u001b[0mPackmap\u001b[0m\u001b[0;34m\u001b[0m\u001b[0;34m\u001b[0m\u001b[0m\n\u001b[0m\u001b[1;32m      3\u001b[0m \u001b[0;32mimport\u001b[0m \u001b[0mpack_strategies\u001b[0m \u001b[0;32mas\u001b[0m \u001b[0mpacking\u001b[0m\u001b[0;34m\u001b[0m\u001b[0;34m\u001b[0m\u001b[0m\n",
      "\u001b[0;32m~/CT_Lab/details/price_production/service/packing/src/models/nfp_shapely/packmap.py\u001b[0m in \u001b[0;36m<module>\u001b[0;34m\u001b[0m\n\u001b[1;32m      3\u001b[0m \u001b[0;32mfrom\u001b[0m \u001b[0mshapely\u001b[0m \u001b[0;32mimport\u001b[0m \u001b[0maffinity\u001b[0m\u001b[0;34m\u001b[0m\u001b[0;34m\u001b[0m\u001b[0m\n\u001b[1;32m      4\u001b[0m \u001b[0;34m\u001b[0m\u001b[0m\n\u001b[0;32m----> 5\u001b[0;31m \u001b[0;32mfrom\u001b[0m \u001b[0;34m.\u001b[0m\u001b[0mfigure\u001b[0m \u001b[0;32mimport\u001b[0m \u001b[0mFigure\u001b[0m\u001b[0;34m\u001b[0m\u001b[0;34m\u001b[0m\u001b[0m\n\u001b[0m\u001b[1;32m      6\u001b[0m \u001b[0;34m\u001b[0m\u001b[0m\n\u001b[1;32m      7\u001b[0m \u001b[0;34m\u001b[0m\u001b[0m\n",
      "\u001b[0;31mImportError\u001b[0m: attempted relative import with no known parent package"
     ]
    }
   ],
   "source": [
    "from figure import Figure\n",
    "from packmap import Packmap\n",
    "import pack_strategies as packing"
   ]
  },
  {
   "cell_type": "code",
   "execution_count": 9,
   "metadata": {},
   "outputs": [
    {
     "data": {
      "application/vnd.jupyter.widget-view+json": {
       "model_id": "f6a158eccd0447a5a8d1b8784ab04440",
       "version_major": 2,
       "version_minor": 0
      },
      "text/plain": [
       "HBox(children=(HTML(value=''), FloatProgress(value=0.0, max=4.0), HTML(value='')))"
      ]
     },
     "metadata": {},
     "output_type": "display_data"
    },
    {
     "name": "stdout",
     "output_type": "stream",
     "text": [
      "[0/4] insert with kim 1.0\n",
      "[1/4] insert with kim 0.09237777777777778\n",
      "[2/4] insert with kim 0.11082777777777778\n",
      "[3/4] insert with kim 0.12149444444444445\n",
      "\n"
     ]
    }
   ],
   "source": [
    "pm = Packmap(300, 300)\n",
    "figs = list(map(Figure, figures))\n",
    "packing.main(pm, figs, packing.pack_2_sides, logging=True)"
   ]
  },
  {
   "cell_type": "code",
   "execution_count": 10,
   "metadata": {},
   "outputs": [
    {
     "data": {
      "image/png": "[encoded data removed]",
      "text/plain": [
       "<PIL.Image.Image image mode=L size=140x131 at 0x7FECA0C9F438>"
      ]
     },
     "execution_count": 10,
     "metadata": {},
     "output_type": "execute_result"
    }
   ],
   "source": [
    "pm.render_packmap()"
   ]
  },
  {
   "cell_type": "markdown",
   "metadata": {},
   "source": [
    "# test task"
   ]
  },
  {
   "cell_type": "code",
   "execution_count": 20,
   "metadata": {},
   "outputs": [],
   "source": [
    "test_dxfs = [random.choice(files) for _ in range(4)]"
   ]
  },
  {
   "cell_type": "code",
   "execution_count": 21,
   "metadata": {},
   "outputs": [
    {
     "data": {
      "text/plain": [
       "[4, 4, 4, 28]"
      ]
     },
     "execution_count": 21,
     "metadata": {},
     "output_type": "execute_result"
    }
   ],
   "source": [
    "figures = [json.load(open(path+name)) for name in test_dxfs]\n",
    "list(map(len, figures))"
   ]
  },
  {
   "cell_type": "code",
   "execution_count": 22,
   "metadata": {},
   "outputs": [
    {
     "data": {
      "application/vnd.jupyter.widget-view+json": {
       "model_id": "4b0a60615ccc453e9f638ca88f5e2fdb",
       "version_major": 2,
       "version_minor": 0
      },
      "text/plain": [
       "HBox(children=(HTML(value=''), FloatProgress(value=0.0, max=4.0), HTML(value='')))"
      ]
     },
     "metadata": {},
     "output_type": "display_data"
    },
    {
     "name": "stdout",
     "output_type": "stream",
     "text": [
      "[0/4] insert with kim 1.0\n",
      "[1/4] insert with kim 0.018120888888888888\n",
      "[2/4] insert with kim 0.020856666666666666\n",
      "[3/4] insert with kim 0.021120777777777777\n",
      "\n"
     ]
    }
   ],
   "source": [
    "pm = Packmap(3000, 3000)\n",
    "figs = list(map(Figure, figures))\n",
    "packing.main(pm, figs, packing.pack_4_sides, logging=True)"
   ]
  },
  {
   "cell_type": "code",
   "execution_count": 23,
   "metadata": {},
   "outputs": [
    {
     "data": {
      "image/png": "[encoded data removed]",
      "text/plain": [
       "<PIL.Image.Image image mode=L size=1018x125 at 0x7FECB7D2C400>"
      ]
     },
     "execution_count": 23,
     "metadata": {},
     "output_type": "execute_result"
    }
   ],
   "source": [
    "img = pm.render_packmap()\n",
    "img.resize((img.size[0]//2, img.size[1]//2))"
   ]
  },
  {
   "cell_type": "code",
   "execution_count": 24,
   "metadata": {},
   "outputs": [],
   "source": [
    "counts = [random.randint(3, 6) for _ in test_dxfs]\n",
    "\n",
    "new_figures = []\n",
    "for fig, count in zip(figures, counts):\n",
    "    for c in range(count):\n",
    "        new_figures.append(fig)\n",
    "figures = new_figures\n",
    "\n",
    "# flat task\n",
    "size = lambda poly: max(np.array(poly)[:, 0]) * max(np.array(poly)[:, 1])\n",
    "new_figures = []"
   ]
  },
  {
   "cell_type": "code",
   "execution_count": 25,
   "metadata": {},
   "outputs": [],
   "source": [
    "from math import log2\n",
    "\n",
    "def pack_4_sides_w_rect(m, p):\n",
    "    best_fig = None\n",
    "    best_res = -1\n",
    "    maybe_to_list = lambda x: x if isinstance(x, list) else [x]\n",
    "    points = p.get_points()\n",
    "    \n",
    "    for deg in [0, -180, 90, -90]:\n",
    "        stepsize = 1 if len(p) <= 20 else int(len(p)//log2(len(p))*3)\n",
    "        for j in range(0, len(p), stepsize):\n",
    "            curr_p = Figure(maybe_to_list(points[j:]) + maybe_to_list(points[:j]))\n",
    "            curr_p = curr_p.rotate(deg)\n",
    "#             curr_p = curr_p.move(1, 0)\n",
    "            fig, res = m.get_best_kim_coord(curr_p)\n",
    "            if res:\n",
    "                if res > best_res:\n",
    "                    best_res = res\n",
    "                    best_fig = fig\n",
    "    return best_fig, best_res"
   ]
  },
  {
   "cell_type": "code",
   "execution_count": 26,
   "metadata": {},
   "outputs": [
    {
     "data": {
      "application/vnd.jupyter.widget-view+json": {
       "model_id": "70b6e4cf153149d6b3e0bf5f05ac7c9c",
       "version_major": 2,
       "version_minor": 0
      },
      "text/plain": [
       "HBox(children=(HTML(value=''), FloatProgress(value=0.0, max=19.0), HTML(value='')))"
      ]
     },
     "metadata": {},
     "output_type": "display_data"
    },
    {
     "name": "stdout",
     "output_type": "stream",
     "text": [
      "[0/19] insert with kim 1.0\n",
      "[1/19] insert with kim 0.06445888888888889\n",
      "[2/19] insert with kim 0.09668833333333333\n",
      "[3/19] insert with kim 0.12891777777777777\n",
      "[4/19] insert with kim 0.16114722222222222\n",
      "[5/19] insert with kim 0.19337666666666667\n",
      "[6/19] insert with kim 0.20644944444444444\n",
      "[7/19] insert with kim 0.21952222222222223\n",
      "[8/19] insert with kim 0.232595\n",
      "[9/19] insert with kim 0.2456677777777778\n",
      "[10/19] insert with kim 0.25874055555555553\n",
      "[11/19] insert with kim 0.27181333333333335\n",
      "[12/19] insert with kim 0.2786527777777778\n",
      "[13/19] insert with kim 0.2854922222222222\n",
      "[14/19] insert with kim 0.29233166666666666\n",
      "[15/19] insert with kim 0.2991711111111111\n",
      "[16/19] insert with kim 0.2998313888888889\n",
      "[17/19] insert with kim 0.30049166666666666\n",
      "[18/19] insert with kim 0.30115194444444443\n",
      "\n",
      "map kim 0.30115194444444443\n"
     ]
    }
   ],
   "source": [
    "m1 = Packmap(3000, 1200)\n",
    "figs = list(map(Figure, figures))\n",
    "\n",
    "packing.main(m1, figs, packing.pack_4_sides, logging=True)\n",
    "\n",
    "print('map kim', m1.calc_packmap_kim())"
   ]
  },
  {
   "cell_type": "code",
   "execution_count": 27,
   "metadata": {},
   "outputs": [
    {
     "data": {
      "image/png": "[encoded data removed]",
      "text/plain": [
       "<PIL.Image.Image image mode=L size=3000x1200 at 0x7FECB7CED860>"
      ]
     },
     "execution_count": 27,
     "metadata": {},
     "output_type": "execute_result"
    }
   ],
   "source": [
    "reports = './test_pics/'\n",
    "m1.render_full_packmap()#.save(reports + 'packing_0.png')"
   ]
  },
  {
   "cell_type": "code",
   "execution_count": null,
   "metadata": {},
   "outputs": [],
   "source": []
  },
  {
   "cell_type": "code",
   "execution_count": null,
   "metadata": {},
   "outputs": [],
   "source": []
  }
 ],
 "metadata": {
  "kernelspec": {
   "display_name": "Python 3",
   "language": "python",
   "name": "python3"
  },
  "language_info": {
   "codemirror_mode": {
    "name": "ipython",
    "version": 3
   },
   "file_extension": ".py",
   "mimetype": "text/x-python",
   "name": "python",
   "nbconvert_exporter": "python",
   "pygments_lexer": "ipython3",
   "version": "3.6.9"
  }
 },
 "nbformat": 4,
 "nbformat_minor": 4
}
